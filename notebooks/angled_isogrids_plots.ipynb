{
 "cells": [
  {
   "cell_type": "markdown",
   "metadata": {},
   "source": [
    "# Angle dependence in tesselating solar grids - triangles, squares, and hexagons are all isotropic\n",
    "Square, Triangle, and Hex grids for solar cells have equivalent performance along a direction parallel to a major component, but what about in a full 360 degree arc? Investigating numerically the angular dependence of multi-component metal grids."
   ]
  },
  {
   "cell_type": "code",
   "execution_count": null,
   "metadata": {},
   "outputs": [],
   "source": [
    "import numpy as np\n",
    "from matplotlib import pyplot as plt\n",
    "\n",
    "%matplotlib inline\n",
    "plt.rcParams['figure.figsize'] = (10.0, 8.0) # set default size of plots\n",
    "plt.rcParams['image.interpolation'] = 'nearest'\n",
    "plt.rcParams['image.cmap'] = 'gray'\n",
    " \n",
    "# for auto-reloading extenrnal modules\n",
    "# see http://stackoverflow.com/questions/1907993/autoreload-of-modules-in-ipython\n",
    "%load_ext autoreload\n",
    "%autoreload 2"
   ]
  },
  {
   "cell_type": "code",
   "execution_count": null,
   "metadata": {},
   "outputs": [],
   "source": [
    "# Rotating lines\n",
    "Pwire = 3  # Ohm-cm\n",
    "a = .1  # pitch\n",
    "w = .1\n",
    "\n",
    "def Rwire(w, theta):  # Ohm/cm length\n",
    "    return Pwire/(w**2 * np.cos(theta))\n",
    "\n",
    "def wire_spacing(a, theta):  # cm\n",
    "    return a/np.cos(theta)\n",
    "\n",
    "def Rsheet(a, w, theta):  # Ohm/square sheet resistance\n",
    "    return Rwire(w, theta) * wire_spacing(a, theta)\n",
    "\n",
    "def Rsheet_hex(a, w, theta):\n",
    "    return 3 * Rwire(w, theta) * a / (2 * np.cos(theta))"
   ]
  },
  {
   "cell_type": "code",
   "execution_count": null,
   "metadata": {},
   "outputs": [],
   "source": [
    "# Angular dependence of sheet conductivity in a single linear grid\n",
    "angles = np.linspace(0, np.pi*3, 1000)\n",
    "R0 = Rsheet(a, w, angles + 0)\n",
    "\n",
    "plt.plot(angles, 1 / R0)\n",
    "plt.title('Linear Grid Conductivity is Periodic')\n",
    "plt.xlabel('Theta [radians]')\n",
    "plt.ylabel('Sheet Conductivity [S-square]')"
   ]
  },
  {
   "cell_type": "code",
   "execution_count": null,
   "metadata": {},
   "outputs": [],
   "source": [
    "# Hexagonal Grid\n",
    "\n",
    "R0 = Rsheet_hex(a, w, 0)\n",
    "R1 = Rsheet_hex(a, w, np.pi * 2/3)\n",
    "R2 = Rsheet_hex(a, w, np.pi * 4/3)\n",
    "Rtotal = 1 / (1/R0 + 1/R1 + 1/R2)\n",
    "print(1/Rtotal)\n",
    "\n",
    "angles = np.linspace(0, np.pi, 1000)\n",
    "R0 = Rsheet_hex(a, w, angles + 0)\n",
    "R1 = Rsheet_hex(a, w, angles + np.pi * 2/3)\n",
    "R2 = Rsheet_hex(a, w, angles + np.pi * 4/3)\n",
    "Rtotal = 1 / (1/R0 + 1/R1 + 1/R2)\n",
    "\n",
    "plt.plot(angles, 1 / Rtotal)\n",
    "plt.plot(angles, 1 / R0)\n",
    "plt.plot(angles, 1 / R1)\n",
    "plt.plot(angles, 1 / R2)\n",
    "plt.title('Hexagonal Grid Conductivity is Isotropic')\n",
    "plt.legend(('Grid', '0-degree component', '120-degree component', '240-degree componenet'))\n",
    "plt.xlabel('Theta [radians]')\n",
    "plt.ylabel('Sheet Conductivity [S-square]')"
   ]
  },
  {
   "cell_type": "code",
   "execution_count": null,
   "metadata": {},
   "outputs": [],
   "source": [
    "# Square Grid\n",
    "angles = np.linspace(0, np.pi, 1000)\n",
    "sheet1 = Rsheet(a, w, angles)\n",
    "sheet2 = Rsheet(a, w, angles+np.pi/2)\n",
    "sheet = 1 / (1 / sheet1 + 1 / sheet2)\n",
    "\n",
    "plt.plot(angles, 1 / sheet)\n",
    "plt.plot(angles, 1 / sheet1)\n",
    "plt.plot(angles, 1 / sheet2)\n",
    "plt.title('Square Grid Conductivity is Isotropic')\n",
    "plt.legend(('Grid', '0-degree component', '90-degree component'))\n",
    "plt.xlabel('Theta [radians]')\n",
    "plt.ylabel('Sheet Conductivity [S-square]')"
   ]
  },
  {
   "cell_type": "code",
   "execution_count": null,
   "metadata": {},
   "outputs": [],
   "source": [
    "# Triangle Grid\n",
    "angles = np.linspace(0, np.pi, 1000)\n",
    "sheet1 = Rsheet(3/2*a, w, angles)\n",
    "sheet2 = Rsheet(3/2*a, w, angles+np.pi / 3)\n",
    "sheet3 = Rsheet(3/2*a, w, angles+np.pi * 2 / 3)\n",
    "\n",
    "sheet = 1 / (1 / sheet1 + 1 / sheet2 + 1 / sheet3)\n",
    "\n",
    "plt.plot(angles, 1 / sheet)\n",
    "plt.plot(angles, 1 / sheet1)\n",
    "plt.plot(angles, 1 / sheet2)\n",
    "plt.plot(angles, 1 / sheet3)\n",
    "plt.title('Triangular Grid Conductivity is Isotropic')\n",
    "plt.legend(('Grid', '0-degree component', '120-degree component', '240-degree componenet'))\n",
    "plt.xlabel('Theta [radians]')\n",
    "plt.ylabel('Sheet Conductivity [S-square]')"
   ]
  },
  {
   "cell_type": "code",
   "execution_count": null,
   "metadata": {},
   "outputs": [],
   "source": [
    "# Grid of N linear grids with angles evenly spread around the unit circle\n",
    "N = 7\n",
    "\n",
    "angles = np.linspace(0, np.pi, 1000)\n",
    "sheets = []\n",
    "for n in range(N):\n",
    "    values = Rsheet(3/2*a, w, angles + np.pi * n / N)\n",
    "    sheets.append( values )\n",
    "\n",
    "sheet = np.sum([1 / s for s in sheets], axis=0)\n",
    "plt.plot(angles, sheet)\n",
    "for series in sheets:\n",
    "    plt.plot(angles, 1/series)\n",
    "plt.show()"
   ]
  }
 ],
 "metadata": {
  "kernelspec": {
   "display_name": "Python 3 (ipykernel)",
   "language": "python",
   "name": "python3"
  },
  "language_info": {
   "codemirror_mode": {
    "name": "ipython",
    "version": 3
   },
   "file_extension": ".py",
   "mimetype": "text/x-python",
   "name": "python",
   "nbconvert_exporter": "python",
   "pygments_lexer": "ipython3",
   "version": "3.9.6"
  }
 },
 "nbformat": 4,
 "nbformat_minor": 4
}
